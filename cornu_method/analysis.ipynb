{
 "cells": [
  {
   "cell_type": "code",
   "execution_count": 137,
   "metadata": {},
   "outputs": [],
   "source": [
    "from uncertainties import unumpy\n",
    "from uncertainties import ufloat\n",
    "from scipy.optimize import curve_fit\n",
    "import numpy as np\n",
    "import pandas as pd\n",
    "import matplotlib.pyplot as plt"
   ]
  },
  {
   "cell_type": "code",
   "execution_count": 138,
   "metadata": {},
   "outputs": [],
   "source": [
    "screwGaugeLC = 0.01 #mm\n",
    "\n",
    "clamp = ufloat(6.0, 0.1)/100 #m\n",
    "length = ufloat(30.0, 0.1)/100 #m\n",
    "\n",
    "length = (length-clamp)/2\n",
    "\n",
    "weight0 = ufloat(0, 1)/1000 #kg\n",
    "weight1 = ufloat(49, 1)/1000 #kg\n",
    "weight2 = ufloat(49+50, 1)/1000 #kg\n",
    "weight3 = ufloat(49+50+50, 1)/1000 #kg\n",
    "\n",
    "\n",
    "width = np.mean(unumpy.uarray([4.00, 4.00, 4.01, 4.00], 0.01)/100)\n",
    "height = np.mean(unumpy.uarray([0.268,0.269,0.267,0.267,0.267,0.265], 0.001)/100)\n",
    "\n",
    "wavelength = 589e-9 #m\n"
   ]
  },
  {
   "cell_type": "code",
   "execution_count": 139,
   "metadata": {},
   "outputs": [
    {
     "name": "stdout",
     "output_type": "stream",
     "text": [
      "Reading file...\n",
      "File read successfully\n",
      "\n",
      "\n"
     ]
    }
   ],
   "source": [
    "print('Reading file...')\n",
    "df = pd.read_excel(\"data.xlsx\")\n",
    "print('File read successfully\\n\\n')"
   ]
  },
  {
   "cell_type": "code",
   "execution_count": 140,
   "metadata": {},
   "outputs": [],
   "source": [
    "order = np.array(df['order'])\n",
    "\n",
    "dn_w0 = np.array(df['dn_d.w0'])\n",
    "dn__w0= np.array(df['dn_dd.w0'])\n",
    "\n",
    "dn_w1 = np.array(df['dn_d.w1'])\n",
    "dn__w1= np.array(df['dn_dd.w1'])\n",
    "\n",
    "dn_w2 = np.array(df['dn_d.w2'])\n",
    "dn__w2= np.array(df['dn_dd.w2'])\n",
    "\n",
    "dn_w3 = np.array(df['dn_d.w3'])\n",
    "dn__w3= np.array(df['dn_dd.w3'])\n"
   ]
  },
  {
   "cell_type": "code",
   "execution_count": 141,
   "metadata": {},
   "outputs": [],
   "source": [
    "order = order[1:]\n",
    "\n",
    "dn_w0 = dn_w0[1:]\n",
    "dn__w0 = (dn__w0 - dn__w0[0])[1:]\n",
    "\n",
    "dn_w1 = dn_w1[1:]\n",
    "dn__w1 = (dn__w1 - dn__w1[0])[1:]\n",
    "\n",
    "dn_w2 = dn_w2[1:]\n",
    "dn__w2 = (dn__w2 - dn__w2[0])[1:]\n",
    "\n",
    "dn_w3 = dn_w3[1:]\n",
    "dn__w3 = (dn__w3 - dn__w3[0])[1:]\n"
   ]
  },
  {
   "cell_type": "code",
   "execution_count": 142,
   "metadata": {},
   "outputs": [],
   "source": [
    "dn_w0 = unumpy.uarray(dn_w0, screwGaugeLC)/1000\n",
    "dn__w0 = unumpy.uarray(dn__w0, screwGaugeLC)/1000\n",
    "\n",
    "\n",
    "dn_w1 = unumpy.uarray(dn_w1, screwGaugeLC)/1000\n",
    "dn__w1 = unumpy.uarray(dn__w1, screwGaugeLC)/1000\n",
    "\n",
    "dn_w2 = unumpy.uarray(dn_w2, screwGaugeLC)/1000\n",
    "dn__w2 = unumpy.uarray(dn__w2, screwGaugeLC)/1000\n",
    "\n",
    "dn_w3 = unumpy.uarray(dn_w3, screwGaugeLC)/1000\n",
    "dn__w3 = unumpy.uarray(dn__w3, screwGaugeLC)/1000"
   ]
  },
  {
   "cell_type": "code",
   "execution_count": 143,
   "metadata": {},
   "outputs": [],
   "source": [
    "def funcR(x, m):\n",
    "    return x*m\n",
    "\n",
    "dn_2 = np.square((dn_w0+dn__w0)/2)\n",
    "popt, popv = curve_fit(funcR, order, unumpy.nominal_values(dn_2), sigma=unumpy.std_devs(dn_2))\n",
    "\n",
    "slope = ufloat(popt[0], np.diag(np.sqrt(popv))[0])\n"
   ]
  },
  {
   "cell_type": "code",
   "execution_count": 144,
   "metadata": {},
   "outputs": [],
   "source": [
    "R0 = slope/(4*wavelength)"
   ]
  },
  {
   "cell_type": "code",
   "execution_count": 145,
   "metadata": {},
   "outputs": [],
   "source": [
    "dn_2w1 = np.square(dn_w1)\n",
    "dn__2w1 = np.square(dn__w1)\n",
    "\n",
    "dn_2w2 = np.square(dn_w2)\n",
    "dn__2w2 = np.square(dn__w2)\n",
    "\n",
    "dn_2w3 = np.square(dn_w3)\n",
    "dn__2w3 = np.square(dn__w3)\n",
    "\n",
    "\n",
    "\n",
    "yVal_R1_W1 =1/(1/(dn_2w1) - 1/(dn_2))\n",
    "yVal_R1_W2 =1/(1/(dn_2w2) - 1/(dn_2))\n",
    "yVal_R1_W3 =1/(1/(dn_2w3) - 1/(dn_2))\n",
    "\n",
    "yVal_R2_W1 =1/(1/(dn__2w1) - 1/(dn_2))\n",
    "yVal_R2_W2 =1/(1/(dn__2w2) - 1/(dn_2))\n",
    "yVal_R2_W3 =1/(1/(dn__2w3) - 1/(dn_2))\n",
    " "
   ]
  },
  {
   "cell_type": "code",
   "execution_count": 146,
   "metadata": {},
   "outputs": [],
   "source": [
    "def Y(R1, m):\n",
    "    return (12*(m)*9.8*length*R1)/(width*(height**3))"
   ]
  },
  {
   "cell_type": "code",
   "execution_count": 147,
   "metadata": {},
   "outputs": [
    {
     "name": "stdout",
     "output_type": "stream",
     "text": [
      "(5.9+/-0.7)e+08 (7.18+/-0.14)e+08 (7.36+/-0.10)e+08\n",
      "-0.37+/-0.06 -0.419+/-0.014 -0.380+/-0.013\n"
     ]
    }
   ],
   "source": [
    "popt, popv = curve_fit(funcR, order ,unumpy.nominal_values(yVal_R1_W1), sigma=unumpy.std_devs(yVal_R1_W1))\n",
    "slope = ufloat(popt[0], np.diag(np.sqrt(popv))[0])\n",
    "\n",
    "R1_w1 = slope/(4*wavelength)\n",
    "\n",
    "\n",
    "popt, popv = curve_fit(funcR, order ,unumpy.nominal_values(yVal_R1_W2), sigma=unumpy.std_devs(yVal_R1_W2))\n",
    "slope = ufloat(popt[0], np.diag(np.sqrt(popv))[0])\n",
    "\n",
    "R1_w2 = slope/(4*wavelength)\n",
    "\n",
    "\n",
    "popt, popv = curve_fit(funcR, order ,unumpy.nominal_values(yVal_R1_W3), sigma=unumpy.std_devs(yVal_R1_W3))\n",
    "slope = ufloat(popt[0], np.diag(np.sqrt(popv))[0])\n",
    "\n",
    "R1_w3 = slope/(4*wavelength)\n",
    "\n",
    "\n",
    "\n",
    "\n",
    "\n",
    "popt, popv = curve_fit(funcR, order ,unumpy.nominal_values(yVal_R2_W1), sigma=unumpy.std_devs(yVal_R2_W1))\n",
    "slope = ufloat(popt[0], np.diag(np.sqrt(popv))[0])\n",
    "\n",
    "R2_w1 = slope/(4*wavelength)\n",
    "\n",
    "\n",
    "popt, popv = curve_fit(funcR, order ,unumpy.nominal_values(yVal_R2_W2), sigma=unumpy.std_devs(yVal_R2_W2))\n",
    "slope = ufloat(popt[0], np.diag(np.sqrt(popv))[0])\n",
    "\n",
    "R2_w2 = slope/(4*wavelength)\n",
    "\n",
    "\n",
    "popt, popv = curve_fit(funcR, order ,unumpy.nominal_values(yVal_R2_W3), sigma=unumpy.std_devs(yVal_R2_W3))\n",
    "slope = ufloat(popt[0], np.diag(np.sqrt(popv))[0])\n",
    "\n",
    "R2_w3 = slope/(4*wavelength)\n",
    "\n",
    "\n",
    "\n",
    "print(Y(R1_w1, weight1),Y(R1_w2, weight2), Y(R1_w3, weight3))\n",
    "print(R1_w1/R2_w1, R1_w2/R2_w2, R1_w3/R2_w3)\n",
    "\n",
    "\n",
    "\n"
   ]
  }
 ],
 "metadata": {
  "kernelspec": {
   "display_name": "Python 3",
   "language": "python",
   "name": "python3"
  },
  "language_info": {
   "codemirror_mode": {
    "name": "ipython",
    "version": 3
   },
   "file_extension": ".py",
   "mimetype": "text/x-python",
   "name": "python",
   "nbconvert_exporter": "python",
   "pygments_lexer": "ipython3",
   "version": "3.12.1"
  }
 },
 "nbformat": 4,
 "nbformat_minor": 2
}

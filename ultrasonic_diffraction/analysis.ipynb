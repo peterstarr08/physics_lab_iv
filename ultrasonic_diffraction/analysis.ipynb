{
 "cells": [
  {
   "cell_type": "code",
   "execution_count": null,
   "metadata": {},
   "outputs": [],
   "source": [
    "from uncertainties import unumpy\n",
    "from uncertainties import ufloat\n",
    "\n",
    "import numpy as np\n",
    "import pandas as pd\n",
    "import matplotlib.pyplot as plt"
   ]
  },
  {
   "cell_type": "code",
   "execution_count": 14,
   "metadata": {},
   "outputs": [],
   "source": [
    "lcDistance = 0.1 #cm\n",
    "lcScrewgauge = 0.01 #mm\n",
    "\n",
    "laserDist = ufloat(18.0, lcDistance)/100 #m\n",
    "diffractorDist = ufloat(24.2, lcDistance)/100 #m\n",
    "screenDist = ufloat(145.1, lcDistance)/100 #m\n",
    "\n",
    "frequency = ufloat(3.21, 0.01)*1e6 #Hz\n",
    "wavelength = 650e-9 #m"
   ]
  },
  {
   "cell_type": "code",
   "execution_count": 15,
   "metadata": {},
   "outputs": [
    {
     "name": "stdout",
     "output_type": "stream",
     "text": [
      "Reading file...\n",
      "File read successfully\n",
      "\n",
      "\n"
     ]
    }
   ],
   "source": [
    "print('Reading file...')\n",
    "df = pd.read_excel(\"data.xlsx\")\n",
    "print('File read successfully\\n\\n')"
   ]
  },
  {
   "cell_type": "code",
   "execution_count": 16,
   "metadata": {},
   "outputs": [],
   "source": [
    "order = np.array(df['order'])\n",
    "_fringes = np.array(df['distance'])"
   ]
  },
  {
   "cell_type": "code",
   "execution_count": 17,
   "metadata": {},
   "outputs": [
    {
     "name": "stdout",
     "output_type": "stream",
     "text": [
      "[0.00085+/-1e-05 0.00261+/-1e-05 0.00438+/-1e-05]\n"
     ]
    }
   ],
   "source": [
    "fringes = unumpy.uarray(_fringes, lcScrewgauge)/1000 #m\n",
    "\n",
    "print(fringes)"
   ]
  },
  {
   "cell_type": "code",
   "execution_count": 20,
   "metadata": {},
   "outputs": [
    {
     "name": "stdout",
     "output_type": "stream",
     "text": [
      "Mean Wavelength  0.000688+/-0.000004  m\n",
      "Mean Velocity  2210+/-14  m/s\n",
      "Mean Bulk Modulus  5.18+/-0.08  GPa\n",
      "Mean Compressibility  0.2387+/-0.0020  GPa^-1\n"
     ]
    }
   ],
   "source": [
    "L = screenDist - diffractorDist\n",
    "theta = unumpy.arctan(fringes/L)\n",
    "\n",
    "\n",
    "Lambda = order * wavelength / (unumpy.sin(theta))\n",
    "\n",
    "velocity = Lambda*frequency\n",
    "bulkModulus = 1000 * (velocity**2)\n",
    "compressibility = 1/(bulkModulus)\n",
    "\n",
    "\n",
    "meanWavelength = np.mean(Lambda)\n",
    "meanVelocity = np.mean(velocity)\n",
    "meanBulkModulus = np.mean(bulkModulus)\n",
    "\n",
    "meanCompressibility = np.mean(compressibility)\n",
    "\n",
    "\n",
    "print(\"Mean Wavelength \", meanWavelength, \" m\")\n",
    "print(\"Mean Velocity \", meanVelocity, \" m/s\")\n",
    "print(\"Mean Bulk Modulus \", meanBulkModulus/1e9, \" GPa\")\n",
    "print(\"Mean Compressibility \", meanCompressibility*1e9, \" GPa^-1\")\n"
   ]
  },
  {
   "cell_type": "code",
   "execution_count": null,
   "metadata": {},
   "outputs": [
    {
     "name": "stdout",
     "output_type": "stream",
     "text": [
      "Results saved to results.csv\n"
     ]
    }
   ],
   "source": [
    "table = pd.DataFrame({\n",
    "    'Order': order,\n",
    "    'Fringes': _fringes,\n",
    "    'Wavelength': Lambda,\n",
    "    'Velocity': velocity,\n",
    "    'Bulk Modulus': bulkModulus,\n",
    "    'Compressibility': compressibility\n",
    "})\n",
    "\n",
    "table.to_csv('results.csv', index=False)\n",
    "print('Results saved to results.csv')"
   ]
  }
 ],
 "metadata": {
  "kernelspec": {
   "display_name": "Python 3",
   "language": "python",
   "name": "python3"
  },
  "language_info": {
   "codemirror_mode": {
    "name": "ipython",
    "version": 3
   },
   "file_extension": ".py",
   "mimetype": "text/x-python",
   "name": "python",
   "nbconvert_exporter": "python",
   "pygments_lexer": "ipython3",
   "version": "3.12.1"
  }
 },
 "nbformat": 4,
 "nbformat_minor": 2
}
